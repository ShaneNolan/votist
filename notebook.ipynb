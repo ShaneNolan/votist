{
 "metadata": {
  "language_info": {
   "codemirror_mode": {
    "name": "ipython",
    "version": 3
   },
   "file_extension": ".py",
   "mimetype": "text/x-python",
   "name": "python",
   "nbconvert_exporter": "python",
   "pygments_lexer": "ipython3",
   "version": "3.8.0-final"
  },
  "orig_nbformat": 2,
  "kernelspec": {
   "name": "python380jvsc74a57bd0d6704ba2a49a185eb685cd098770790231dfc927f8df48fd1e9aff1e726e7e60",
   "display_name": "Python 3.8.0 64-bit ('votist-25GNkSt6-py3.8': venv)"
  },
  "metadata": {
   "interpreter": {
    "hash": "d6704ba2a49a185eb685cd098770790231dfc927f8df48fd1e9aff1e726e7e60"
   }
  }
 },
 "nbformat": 4,
 "nbformat_minor": 2,
 "cells": [
  {
   "cell_type": "code",
   "execution_count": 2,
   "metadata": {},
   "outputs": [],
   "source": [
    "import pandas as pd"
   ]
  },
  {
   "cell_type": "code",
   "execution_count": 3,
   "metadata": {},
   "outputs": [],
   "source": [
    "pd.set_option('display.max_columns', None)"
   ]
  },
  {
   "cell_type": "code",
   "execution_count": 4,
   "metadata": {},
   "outputs": [
    {
     "output_type": "stream",
     "name": "stderr",
     "text": [
      "c:\\Users\\Shane\\AppData\\Local\\pypoetry\\Cache\\virtualenvs\\votist-25GNkSt6-py3.8\\lib\\site-packages\\numpy\\lib\\arraysetops.py:583: FutureWarning: elementwise comparison failed; returning scalar instead, but in the future will perform elementwise comparison\n  mask |= (ar1 == a)\n"
     ]
    }
   ],
   "source": [
    "fraud_train = pd.read_csv(\"data/fraudTrain.csv\", index_col=0)"
   ]
  },
  {
   "cell_type": "code",
   "execution_count": 5,
   "metadata": {},
   "outputs": [
    {
     "output_type": "execute_result",
     "data": {
      "text/plain": [
       "  trans_date_trans_time            cc_num                            merchant  \\\n",
       "0   2019-01-01 00:00:18  2703186189652095          fraud_Rippin, Kub and Mann   \n",
       "1   2019-01-01 00:00:44      630423337322     fraud_Heller, Gutmann and Zieme   \n",
       "2   2019-01-01 00:00:51    38859492057661                fraud_Lind-Buckridge   \n",
       "3   2019-01-01 00:01:16  3534093764340240  fraud_Kutch, Hermiston and Farrell   \n",
       "4   2019-01-01 00:03:06   375534208663984                 fraud_Keeling-Crist   \n",
       "\n",
       "        category     amt      first     last gender  \\\n",
       "0       misc_net    4.97   Jennifer    Banks      F   \n",
       "1    grocery_pos  107.23  Stephanie     Gill      F   \n",
       "2  entertainment  220.11     Edward  Sanchez      M   \n",
       "3  gas_transport   45.00     Jeremy    White      M   \n",
       "4       misc_pos   41.96      Tyler   Garcia      M   \n",
       "\n",
       "                         street            city state    zip      lat  \\\n",
       "0                561 Perry Cove  Moravian Falls    NC  28654  36.0788   \n",
       "1  43039 Riley Greens Suite 393          Orient    WA  99160  48.8878   \n",
       "2      594 White Dale Suite 530      Malad City    ID  83252  42.1808   \n",
       "3   9443 Cynthia Court Apt. 038         Boulder    MT  59632  46.2306   \n",
       "4              408 Bradley Rest        Doe Hill    VA  24433  38.4207   \n",
       "\n",
       "       long  city_pop                                job         dob  \\\n",
       "0  -81.1781      3495          Psychologist, counselling  1988-03-09   \n",
       "1 -118.2105       149  Special educational needs teacher  1978-06-21   \n",
       "2 -112.2620      4154        Nature conservation officer  1962-01-19   \n",
       "3 -112.1138      1939                    Patent attorney  1967-01-12   \n",
       "4  -79.4629        99     Dance movement psychotherapist  1986-03-28   \n",
       "\n",
       "                          trans_num   unix_time  merch_lat  merch_long  \\\n",
       "0  0b242abb623afc578575680df30655b9  1325376018  36.011293  -82.048315   \n",
       "1  1f76529f8574734946361c461b024d99  1325376044  49.159047 -118.186462   \n",
       "2  a1a22d70485983eac12b5b88dad1cf95  1325376051  43.150704 -112.154481   \n",
       "3  6b849c168bdad6f867558c3793159a81  1325376076  47.034331 -112.561071   \n",
       "4  a41d7549acf90789359a9aa5346dcb46  1325376186  38.674999  -78.632459   \n",
       "\n",
       "   is_fraud  \n",
       "0         0  \n",
       "1         0  \n",
       "2         0  \n",
       "3         0  \n",
       "4         0  "
      ],
      "text/html": "<div>\n<style scoped>\n    .dataframe tbody tr th:only-of-type {\n        vertical-align: middle;\n    }\n\n    .dataframe tbody tr th {\n        vertical-align: top;\n    }\n\n    .dataframe thead th {\n        text-align: right;\n    }\n</style>\n<table border=\"1\" class=\"dataframe\">\n  <thead>\n    <tr style=\"text-align: right;\">\n      <th></th>\n      <th>trans_date_trans_time</th>\n      <th>cc_num</th>\n      <th>merchant</th>\n      <th>category</th>\n      <th>amt</th>\n      <th>first</th>\n      <th>last</th>\n      <th>gender</th>\n      <th>street</th>\n      <th>city</th>\n      <th>state</th>\n      <th>zip</th>\n      <th>lat</th>\n      <th>long</th>\n      <th>city_pop</th>\n      <th>job</th>\n      <th>dob</th>\n      <th>trans_num</th>\n      <th>unix_time</th>\n      <th>merch_lat</th>\n      <th>merch_long</th>\n      <th>is_fraud</th>\n    </tr>\n  </thead>\n  <tbody>\n    <tr>\n      <th>0</th>\n      <td>2019-01-01 00:00:18</td>\n      <td>2703186189652095</td>\n      <td>fraud_Rippin, Kub and Mann</td>\n      <td>misc_net</td>\n      <td>4.97</td>\n      <td>Jennifer</td>\n      <td>Banks</td>\n      <td>F</td>\n      <td>561 Perry Cove</td>\n      <td>Moravian Falls</td>\n      <td>NC</td>\n      <td>28654</td>\n      <td>36.0788</td>\n      <td>-81.1781</td>\n      <td>3495</td>\n      <td>Psychologist, counselling</td>\n      <td>1988-03-09</td>\n      <td>0b242abb623afc578575680df30655b9</td>\n      <td>1325376018</td>\n      <td>36.011293</td>\n      <td>-82.048315</td>\n      <td>0</td>\n    </tr>\n    <tr>\n      <th>1</th>\n      <td>2019-01-01 00:00:44</td>\n      <td>630423337322</td>\n      <td>fraud_Heller, Gutmann and Zieme</td>\n      <td>grocery_pos</td>\n      <td>107.23</td>\n      <td>Stephanie</td>\n      <td>Gill</td>\n      <td>F</td>\n      <td>43039 Riley Greens Suite 393</td>\n      <td>Orient</td>\n      <td>WA</td>\n      <td>99160</td>\n      <td>48.8878</td>\n      <td>-118.2105</td>\n      <td>149</td>\n      <td>Special educational needs teacher</td>\n      <td>1978-06-21</td>\n      <td>1f76529f8574734946361c461b024d99</td>\n      <td>1325376044</td>\n      <td>49.159047</td>\n      <td>-118.186462</td>\n      <td>0</td>\n    </tr>\n    <tr>\n      <th>2</th>\n      <td>2019-01-01 00:00:51</td>\n      <td>38859492057661</td>\n      <td>fraud_Lind-Buckridge</td>\n      <td>entertainment</td>\n      <td>220.11</td>\n      <td>Edward</td>\n      <td>Sanchez</td>\n      <td>M</td>\n      <td>594 White Dale Suite 530</td>\n      <td>Malad City</td>\n      <td>ID</td>\n      <td>83252</td>\n      <td>42.1808</td>\n      <td>-112.2620</td>\n      <td>4154</td>\n      <td>Nature conservation officer</td>\n      <td>1962-01-19</td>\n      <td>a1a22d70485983eac12b5b88dad1cf95</td>\n      <td>1325376051</td>\n      <td>43.150704</td>\n      <td>-112.154481</td>\n      <td>0</td>\n    </tr>\n    <tr>\n      <th>3</th>\n      <td>2019-01-01 00:01:16</td>\n      <td>3534093764340240</td>\n      <td>fraud_Kutch, Hermiston and Farrell</td>\n      <td>gas_transport</td>\n      <td>45.00</td>\n      <td>Jeremy</td>\n      <td>White</td>\n      <td>M</td>\n      <td>9443 Cynthia Court Apt. 038</td>\n      <td>Boulder</td>\n      <td>MT</td>\n      <td>59632</td>\n      <td>46.2306</td>\n      <td>-112.1138</td>\n      <td>1939</td>\n      <td>Patent attorney</td>\n      <td>1967-01-12</td>\n      <td>6b849c168bdad6f867558c3793159a81</td>\n      <td>1325376076</td>\n      <td>47.034331</td>\n      <td>-112.561071</td>\n      <td>0</td>\n    </tr>\n    <tr>\n      <th>4</th>\n      <td>2019-01-01 00:03:06</td>\n      <td>375534208663984</td>\n      <td>fraud_Keeling-Crist</td>\n      <td>misc_pos</td>\n      <td>41.96</td>\n      <td>Tyler</td>\n      <td>Garcia</td>\n      <td>M</td>\n      <td>408 Bradley Rest</td>\n      <td>Doe Hill</td>\n      <td>VA</td>\n      <td>24433</td>\n      <td>38.4207</td>\n      <td>-79.4629</td>\n      <td>99</td>\n      <td>Dance movement psychotherapist</td>\n      <td>1986-03-28</td>\n      <td>a41d7549acf90789359a9aa5346dcb46</td>\n      <td>1325376186</td>\n      <td>38.674999</td>\n      <td>-78.632459</td>\n      <td>0</td>\n    </tr>\n  </tbody>\n</table>\n</div>"
     },
     "metadata": {},
     "execution_count": 5
    }
   ],
   "source": [
    "fraud_train.head(5)"
   ]
  },
  {
   "cell_type": "code",
   "execution_count": 6,
   "metadata": {},
   "outputs": [],
   "source": [
    "dropped_fraud_train = fraud_train.drop(columns=[\"trans_date_trans_time\", \"cc_num\", \"merchant\", \"first\", \"last\", \"gender\", \"street\", \"zip\", \"city_pop\", \"trans_num\", \"unix_time\"])"
   ]
  },
  {
   "cell_type": "code",
   "execution_count": 7,
   "metadata": {},
   "outputs": [
    {
     "output_type": "execute_result",
     "data": {
      "text/plain": [
       "        category     amt            city state      lat      long  \\\n",
       "0       misc_net    4.97  Moravian Falls    NC  36.0788  -81.1781   \n",
       "1    grocery_pos  107.23          Orient    WA  48.8878 -118.2105   \n",
       "2  entertainment  220.11      Malad City    ID  42.1808 -112.2620   \n",
       "3  gas_transport   45.00         Boulder    MT  46.2306 -112.1138   \n",
       "4       misc_pos   41.96        Doe Hill    VA  38.4207  -79.4629   \n",
       "\n",
       "                                 job         dob  merch_lat  merch_long  \\\n",
       "0          Psychologist, counselling  1988-03-09  36.011293  -82.048315   \n",
       "1  Special educational needs teacher  1978-06-21  49.159047 -118.186462   \n",
       "2        Nature conservation officer  1962-01-19  43.150704 -112.154481   \n",
       "3                    Patent attorney  1967-01-12  47.034331 -112.561071   \n",
       "4     Dance movement psychotherapist  1986-03-28  38.674999  -78.632459   \n",
       "\n",
       "   is_fraud  \n",
       "0         0  \n",
       "1         0  \n",
       "2         0  \n",
       "3         0  \n",
       "4         0  "
      ],
      "text/html": "<div>\n<style scoped>\n    .dataframe tbody tr th:only-of-type {\n        vertical-align: middle;\n    }\n\n    .dataframe tbody tr th {\n        vertical-align: top;\n    }\n\n    .dataframe thead th {\n        text-align: right;\n    }\n</style>\n<table border=\"1\" class=\"dataframe\">\n  <thead>\n    <tr style=\"text-align: right;\">\n      <th></th>\n      <th>category</th>\n      <th>amt</th>\n      <th>city</th>\n      <th>state</th>\n      <th>lat</th>\n      <th>long</th>\n      <th>job</th>\n      <th>dob</th>\n      <th>merch_lat</th>\n      <th>merch_long</th>\n      <th>is_fraud</th>\n    </tr>\n  </thead>\n  <tbody>\n    <tr>\n      <th>0</th>\n      <td>misc_net</td>\n      <td>4.97</td>\n      <td>Moravian Falls</td>\n      <td>NC</td>\n      <td>36.0788</td>\n      <td>-81.1781</td>\n      <td>Psychologist, counselling</td>\n      <td>1988-03-09</td>\n      <td>36.011293</td>\n      <td>-82.048315</td>\n      <td>0</td>\n    </tr>\n    <tr>\n      <th>1</th>\n      <td>grocery_pos</td>\n      <td>107.23</td>\n      <td>Orient</td>\n      <td>WA</td>\n      <td>48.8878</td>\n      <td>-118.2105</td>\n      <td>Special educational needs teacher</td>\n      <td>1978-06-21</td>\n      <td>49.159047</td>\n      <td>-118.186462</td>\n      <td>0</td>\n    </tr>\n    <tr>\n      <th>2</th>\n      <td>entertainment</td>\n      <td>220.11</td>\n      <td>Malad City</td>\n      <td>ID</td>\n      <td>42.1808</td>\n      <td>-112.2620</td>\n      <td>Nature conservation officer</td>\n      <td>1962-01-19</td>\n      <td>43.150704</td>\n      <td>-112.154481</td>\n      <td>0</td>\n    </tr>\n    <tr>\n      <th>3</th>\n      <td>gas_transport</td>\n      <td>45.00</td>\n      <td>Boulder</td>\n      <td>MT</td>\n      <td>46.2306</td>\n      <td>-112.1138</td>\n      <td>Patent attorney</td>\n      <td>1967-01-12</td>\n      <td>47.034331</td>\n      <td>-112.561071</td>\n      <td>0</td>\n    </tr>\n    <tr>\n      <th>4</th>\n      <td>misc_pos</td>\n      <td>41.96</td>\n      <td>Doe Hill</td>\n      <td>VA</td>\n      <td>38.4207</td>\n      <td>-79.4629</td>\n      <td>Dance movement psychotherapist</td>\n      <td>1986-03-28</td>\n      <td>38.674999</td>\n      <td>-78.632459</td>\n      <td>0</td>\n    </tr>\n  </tbody>\n</table>\n</div>"
     },
     "metadata": {},
     "execution_count": 7
    }
   ],
   "source": [
    "dropped_fraud_train.head()"
   ]
  },
  {
   "cell_type": "code",
   "execution_count": 8,
   "metadata": {},
   "outputs": [],
   "source": [
    "def calculate_age(born):\n",
    "    from datetime import datetime, date\n",
    "    born = datetime.strptime(born, \"%Y-%m-%d\").date()\n",
    "    today = date.today()\n",
    "    return today.year - born.year - ((today.month, today.day) < (born.month, born.day))"
   ]
  },
  {
   "cell_type": "code",
   "execution_count": 9,
   "metadata": {},
   "outputs": [],
   "source": [
    "dropped_fraud_train[\"age\"] = dropped_fraud_train['dob'].apply(calculate_age)\n",
    "dropped_fraud_train = dropped_fraud_train.drop(columns=[\"dob\"])"
   ]
  },
  {
   "cell_type": "code",
   "execution_count": 10,
   "metadata": {},
   "outputs": [
    {
     "output_type": "execute_result",
     "data": {
      "text/plain": [
       "        category     amt            city state      lat      long  \\\n",
       "0       misc_net    4.97  Moravian Falls    NC  36.0788  -81.1781   \n",
       "1    grocery_pos  107.23          Orient    WA  48.8878 -118.2105   \n",
       "2  entertainment  220.11      Malad City    ID  42.1808 -112.2620   \n",
       "3  gas_transport   45.00         Boulder    MT  46.2306 -112.1138   \n",
       "4       misc_pos   41.96        Doe Hill    VA  38.4207  -79.4629   \n",
       "\n",
       "                                 job  merch_lat  merch_long  is_fraud  age  \n",
       "0          Psychologist, counselling  36.011293  -82.048315         0   33  \n",
       "1  Special educational needs teacher  49.159047 -118.186462         0   42  \n",
       "2        Nature conservation officer  43.150704 -112.154481         0   59  \n",
       "3                    Patent attorney  47.034331 -112.561071         0   54  \n",
       "4     Dance movement psychotherapist  38.674999  -78.632459         0   35  "
      ],
      "text/html": "<div>\n<style scoped>\n    .dataframe tbody tr th:only-of-type {\n        vertical-align: middle;\n    }\n\n    .dataframe tbody tr th {\n        vertical-align: top;\n    }\n\n    .dataframe thead th {\n        text-align: right;\n    }\n</style>\n<table border=\"1\" class=\"dataframe\">\n  <thead>\n    <tr style=\"text-align: right;\">\n      <th></th>\n      <th>category</th>\n      <th>amt</th>\n      <th>city</th>\n      <th>state</th>\n      <th>lat</th>\n      <th>long</th>\n      <th>job</th>\n      <th>merch_lat</th>\n      <th>merch_long</th>\n      <th>is_fraud</th>\n      <th>age</th>\n    </tr>\n  </thead>\n  <tbody>\n    <tr>\n      <th>0</th>\n      <td>misc_net</td>\n      <td>4.97</td>\n      <td>Moravian Falls</td>\n      <td>NC</td>\n      <td>36.0788</td>\n      <td>-81.1781</td>\n      <td>Psychologist, counselling</td>\n      <td>36.011293</td>\n      <td>-82.048315</td>\n      <td>0</td>\n      <td>33</td>\n    </tr>\n    <tr>\n      <th>1</th>\n      <td>grocery_pos</td>\n      <td>107.23</td>\n      <td>Orient</td>\n      <td>WA</td>\n      <td>48.8878</td>\n      <td>-118.2105</td>\n      <td>Special educational needs teacher</td>\n      <td>49.159047</td>\n      <td>-118.186462</td>\n      <td>0</td>\n      <td>42</td>\n    </tr>\n    <tr>\n      <th>2</th>\n      <td>entertainment</td>\n      <td>220.11</td>\n      <td>Malad City</td>\n      <td>ID</td>\n      <td>42.1808</td>\n      <td>-112.2620</td>\n      <td>Nature conservation officer</td>\n      <td>43.150704</td>\n      <td>-112.154481</td>\n      <td>0</td>\n      <td>59</td>\n    </tr>\n    <tr>\n      <th>3</th>\n      <td>gas_transport</td>\n      <td>45.00</td>\n      <td>Boulder</td>\n      <td>MT</td>\n      <td>46.2306</td>\n      <td>-112.1138</td>\n      <td>Patent attorney</td>\n      <td>47.034331</td>\n      <td>-112.561071</td>\n      <td>0</td>\n      <td>54</td>\n    </tr>\n    <tr>\n      <th>4</th>\n      <td>misc_pos</td>\n      <td>41.96</td>\n      <td>Doe Hill</td>\n      <td>VA</td>\n      <td>38.4207</td>\n      <td>-79.4629</td>\n      <td>Dance movement psychotherapist</td>\n      <td>38.674999</td>\n      <td>-78.632459</td>\n      <td>0</td>\n      <td>35</td>\n    </tr>\n  </tbody>\n</table>\n</div>"
     },
     "metadata": {},
     "execution_count": 10
    }
   ],
   "source": [
    "dropped_fraud_train.head()"
   ]
  },
  {
   "cell_type": "code",
   "execution_count": 11,
   "metadata": {},
   "outputs": [
    {
     "output_type": "execute_result",
     "data": {
      "text/plain": [
       "Film/video editor             9779\n",
       "Exhibition designer           9199\n",
       "Naval architect               8684\n",
       "Surveyor, land/geomatics      8680\n",
       "Materials engineer            8270\n",
       "                              ... \n",
       "Veterinary surgeon               8\n",
       "Information officer              8\n",
       "Contracting civil engineer       7\n",
       "Ship broker                      7\n",
       "Warehouse manager                7\n",
       "Name: job, Length: 494, dtype: int64"
      ]
     },
     "metadata": {},
     "execution_count": 11
    }
   ],
   "source": [
    "dropped_fraud_train[\"job\"].value_counts()"
   ]
  },
  {
   "cell_type": "code",
   "execution_count": 12,
   "metadata": {},
   "outputs": [],
   "source": [
    "dropped_fraud_train=dropped_fraud_train.drop(columns=[\"job\", \"city\", \"state\"])"
   ]
  },
  {
   "cell_type": "code",
   "execution_count": 13,
   "metadata": {},
   "outputs": [
    {
     "output_type": "execute_result",
     "data": {
      "text/plain": [
       "        category     amt      lat      long  merch_lat  merch_long  is_fraud  \\\n",
       "0       misc_net    4.97  36.0788  -81.1781  36.011293  -82.048315         0   \n",
       "1    grocery_pos  107.23  48.8878 -118.2105  49.159047 -118.186462         0   \n",
       "2  entertainment  220.11  42.1808 -112.2620  43.150704 -112.154481         0   \n",
       "3  gas_transport   45.00  46.2306 -112.1138  47.034331 -112.561071         0   \n",
       "4       misc_pos   41.96  38.4207  -79.4629  38.674999  -78.632459         0   \n",
       "\n",
       "   age  \n",
       "0   33  \n",
       "1   42  \n",
       "2   59  \n",
       "3   54  \n",
       "4   35  "
      ],
      "text/html": "<div>\n<style scoped>\n    .dataframe tbody tr th:only-of-type {\n        vertical-align: middle;\n    }\n\n    .dataframe tbody tr th {\n        vertical-align: top;\n    }\n\n    .dataframe thead th {\n        text-align: right;\n    }\n</style>\n<table border=\"1\" class=\"dataframe\">\n  <thead>\n    <tr style=\"text-align: right;\">\n      <th></th>\n      <th>category</th>\n      <th>amt</th>\n      <th>lat</th>\n      <th>long</th>\n      <th>merch_lat</th>\n      <th>merch_long</th>\n      <th>is_fraud</th>\n      <th>age</th>\n    </tr>\n  </thead>\n  <tbody>\n    <tr>\n      <th>0</th>\n      <td>misc_net</td>\n      <td>4.97</td>\n      <td>36.0788</td>\n      <td>-81.1781</td>\n      <td>36.011293</td>\n      <td>-82.048315</td>\n      <td>0</td>\n      <td>33</td>\n    </tr>\n    <tr>\n      <th>1</th>\n      <td>grocery_pos</td>\n      <td>107.23</td>\n      <td>48.8878</td>\n      <td>-118.2105</td>\n      <td>49.159047</td>\n      <td>-118.186462</td>\n      <td>0</td>\n      <td>42</td>\n    </tr>\n    <tr>\n      <th>2</th>\n      <td>entertainment</td>\n      <td>220.11</td>\n      <td>42.1808</td>\n      <td>-112.2620</td>\n      <td>43.150704</td>\n      <td>-112.154481</td>\n      <td>0</td>\n      <td>59</td>\n    </tr>\n    <tr>\n      <th>3</th>\n      <td>gas_transport</td>\n      <td>45.00</td>\n      <td>46.2306</td>\n      <td>-112.1138</td>\n      <td>47.034331</td>\n      <td>-112.561071</td>\n      <td>0</td>\n      <td>54</td>\n    </tr>\n    <tr>\n      <th>4</th>\n      <td>misc_pos</td>\n      <td>41.96</td>\n      <td>38.4207</td>\n      <td>-79.4629</td>\n      <td>38.674999</td>\n      <td>-78.632459</td>\n      <td>0</td>\n      <td>35</td>\n    </tr>\n  </tbody>\n</table>\n</div>"
     },
     "metadata": {},
     "execution_count": 13
    }
   ],
   "source": [
    "dropped_fraud_train.head()"
   ]
  },
  {
   "cell_type": "code",
   "execution_count": 14,
   "metadata": {},
   "outputs": [
    {
     "output_type": "execute_result",
     "data": {
      "text/plain": [
       "gas_transport     131659\n",
       "grocery_pos       123638\n",
       "home              123115\n",
       "shopping_pos      116672\n",
       "kids_pets         113035\n",
       "shopping_net       97543\n",
       "entertainment      94014\n",
       "food_dining        91461\n",
       "personal_care      90758\n",
       "health_fitness     85879\n",
       "misc_pos           79655\n",
       "misc_net           63287\n",
       "grocery_net        45452\n",
       "travel             40507\n",
       "Name: category, dtype: int64"
      ]
     },
     "metadata": {},
     "execution_count": 14
    }
   ],
   "source": [
    "dropped_fraud_train[\"category\"].value_counts()"
   ]
  },
  {
   "cell_type": "code",
   "execution_count": 15,
   "metadata": {},
   "outputs": [
    {
     "output_type": "execute_result",
     "data": {
      "text/plain": [
       "            amt      lat      long  merch_lat  merch_long  is_fraud  age  \\\n",
       "0          4.97  36.0788  -81.1781  36.011293  -82.048315         0   33   \n",
       "1        107.23  48.8878 -118.2105  49.159047 -118.186462         0   42   \n",
       "2        220.11  42.1808 -112.2620  43.150704 -112.154481         0   59   \n",
       "3         45.00  46.2306 -112.1138  47.034331 -112.561071         0   54   \n",
       "4         41.96  38.4207  -79.4629  38.674999  -78.632459         0   35   \n",
       "...         ...      ...       ...        ...         ...       ...  ...   \n",
       "1296670   15.56  37.7175 -112.4777  36.841266 -111.690765         0   59   \n",
       "1296671   51.70  39.2667  -77.5101  38.906881  -78.246528         0   41   \n",
       "1296672  105.93  32.9396 -105.8189  33.619513 -105.130529         0   53   \n",
       "1296673   74.90  43.3526 -102.5411  42.788940 -103.241160         0   40   \n",
       "1296674    4.30  45.8433 -113.8748  46.565983 -114.186110         0   25   \n",
       "\n",
       "         category_entertainment  category_food_dining  category_gas_transport  \\\n",
       "0                             0                     0                       0   \n",
       "1                             0                     0                       0   \n",
       "2                             1                     0                       0   \n",
       "3                             0                     0                       1   \n",
       "4                             0                     0                       0   \n",
       "...                         ...                   ...                     ...   \n",
       "1296670                       1                     0                       0   \n",
       "1296671                       0                     1                       0   \n",
       "1296672                       0                     1                       0   \n",
       "1296673                       0                     1                       0   \n",
       "1296674                       0                     1                       0   \n",
       "\n",
       "         category_grocery_net  category_grocery_pos  category_health_fitness  \\\n",
       "0                           0                     0                        0   \n",
       "1                           0                     1                        0   \n",
       "2                           0                     0                        0   \n",
       "3                           0                     0                        0   \n",
       "4                           0                     0                        0   \n",
       "...                       ...                   ...                      ...   \n",
       "1296670                     0                     0                        0   \n",
       "1296671                     0                     0                        0   \n",
       "1296672                     0                     0                        0   \n",
       "1296673                     0                     0                        0   \n",
       "1296674                     0                     0                        0   \n",
       "\n",
       "         category_home  category_kids_pets  category_misc_net  \\\n",
       "0                    0                   0                  1   \n",
       "1                    0                   0                  0   \n",
       "2                    0                   0                  0   \n",
       "3                    0                   0                  0   \n",
       "4                    0                   0                  0   \n",
       "...                ...                 ...                ...   \n",
       "1296670              0                   0                  0   \n",
       "1296671              0                   0                  0   \n",
       "1296672              0                   0                  0   \n",
       "1296673              0                   0                  0   \n",
       "1296674              0                   0                  0   \n",
       "\n",
       "         category_misc_pos  category_personal_care  category_shopping_net  \\\n",
       "0                        0                       0                      0   \n",
       "1                        0                       0                      0   \n",
       "2                        0                       0                      0   \n",
       "3                        0                       0                      0   \n",
       "4                        1                       0                      0   \n",
       "...                    ...                     ...                    ...   \n",
       "1296670                  0                       0                      0   \n",
       "1296671                  0                       0                      0   \n",
       "1296672                  0                       0                      0   \n",
       "1296673                  0                       0                      0   \n",
       "1296674                  0                       0                      0   \n",
       "\n",
       "         category_shopping_pos  category_travel  \n",
       "0                            0                0  \n",
       "1                            0                0  \n",
       "2                            0                0  \n",
       "3                            0                0  \n",
       "4                            0                0  \n",
       "...                        ...              ...  \n",
       "1296670                      0                0  \n",
       "1296671                      0                0  \n",
       "1296672                      0                0  \n",
       "1296673                      0                0  \n",
       "1296674                      0                0  \n",
       "\n",
       "[1296675 rows x 21 columns]"
      ],
      "text/html": "<div>\n<style scoped>\n    .dataframe tbody tr th:only-of-type {\n        vertical-align: middle;\n    }\n\n    .dataframe tbody tr th {\n        vertical-align: top;\n    }\n\n    .dataframe thead th {\n        text-align: right;\n    }\n</style>\n<table border=\"1\" class=\"dataframe\">\n  <thead>\n    <tr style=\"text-align: right;\">\n      <th></th>\n      <th>amt</th>\n      <th>lat</th>\n      <th>long</th>\n      <th>merch_lat</th>\n      <th>merch_long</th>\n      <th>is_fraud</th>\n      <th>age</th>\n      <th>category_entertainment</th>\n      <th>category_food_dining</th>\n      <th>category_gas_transport</th>\n      <th>category_grocery_net</th>\n      <th>category_grocery_pos</th>\n      <th>category_health_fitness</th>\n      <th>category_home</th>\n      <th>category_kids_pets</th>\n      <th>category_misc_net</th>\n      <th>category_misc_pos</th>\n      <th>category_personal_care</th>\n      <th>category_shopping_net</th>\n      <th>category_shopping_pos</th>\n      <th>category_travel</th>\n    </tr>\n  </thead>\n  <tbody>\n    <tr>\n      <th>0</th>\n      <td>4.97</td>\n      <td>36.0788</td>\n      <td>-81.1781</td>\n      <td>36.011293</td>\n      <td>-82.048315</td>\n      <td>0</td>\n      <td>33</td>\n      <td>0</td>\n      <td>0</td>\n      <td>0</td>\n      <td>0</td>\n      <td>0</td>\n      <td>0</td>\n      <td>0</td>\n      <td>0</td>\n      <td>1</td>\n      <td>0</td>\n      <td>0</td>\n      <td>0</td>\n      <td>0</td>\n      <td>0</td>\n    </tr>\n    <tr>\n      <th>1</th>\n      <td>107.23</td>\n      <td>48.8878</td>\n      <td>-118.2105</td>\n      <td>49.159047</td>\n      <td>-118.186462</td>\n      <td>0</td>\n      <td>42</td>\n      <td>0</td>\n      <td>0</td>\n      <td>0</td>\n      <td>0</td>\n      <td>1</td>\n      <td>0</td>\n      <td>0</td>\n      <td>0</td>\n      <td>0</td>\n      <td>0</td>\n      <td>0</td>\n      <td>0</td>\n      <td>0</td>\n      <td>0</td>\n    </tr>\n    <tr>\n      <th>2</th>\n      <td>220.11</td>\n      <td>42.1808</td>\n      <td>-112.2620</td>\n      <td>43.150704</td>\n      <td>-112.154481</td>\n      <td>0</td>\n      <td>59</td>\n      <td>1</td>\n      <td>0</td>\n      <td>0</td>\n      <td>0</td>\n      <td>0</td>\n      <td>0</td>\n      <td>0</td>\n      <td>0</td>\n      <td>0</td>\n      <td>0</td>\n      <td>0</td>\n      <td>0</td>\n      <td>0</td>\n      <td>0</td>\n    </tr>\n    <tr>\n      <th>3</th>\n      <td>45.00</td>\n      <td>46.2306</td>\n      <td>-112.1138</td>\n      <td>47.034331</td>\n      <td>-112.561071</td>\n      <td>0</td>\n      <td>54</td>\n      <td>0</td>\n      <td>0</td>\n      <td>1</td>\n      <td>0</td>\n      <td>0</td>\n      <td>0</td>\n      <td>0</td>\n      <td>0</td>\n      <td>0</td>\n      <td>0</td>\n      <td>0</td>\n      <td>0</td>\n      <td>0</td>\n      <td>0</td>\n    </tr>\n    <tr>\n      <th>4</th>\n      <td>41.96</td>\n      <td>38.4207</td>\n      <td>-79.4629</td>\n      <td>38.674999</td>\n      <td>-78.632459</td>\n      <td>0</td>\n      <td>35</td>\n      <td>0</td>\n      <td>0</td>\n      <td>0</td>\n      <td>0</td>\n      <td>0</td>\n      <td>0</td>\n      <td>0</td>\n      <td>0</td>\n      <td>0</td>\n      <td>1</td>\n      <td>0</td>\n      <td>0</td>\n      <td>0</td>\n      <td>0</td>\n    </tr>\n    <tr>\n      <th>...</th>\n      <td>...</td>\n      <td>...</td>\n      <td>...</td>\n      <td>...</td>\n      <td>...</td>\n      <td>...</td>\n      <td>...</td>\n      <td>...</td>\n      <td>...</td>\n      <td>...</td>\n      <td>...</td>\n      <td>...</td>\n      <td>...</td>\n      <td>...</td>\n      <td>...</td>\n      <td>...</td>\n      <td>...</td>\n      <td>...</td>\n      <td>...</td>\n      <td>...</td>\n      <td>...</td>\n    </tr>\n    <tr>\n      <th>1296670</th>\n      <td>15.56</td>\n      <td>37.7175</td>\n      <td>-112.4777</td>\n      <td>36.841266</td>\n      <td>-111.690765</td>\n      <td>0</td>\n      <td>59</td>\n      <td>1</td>\n      <td>0</td>\n      <td>0</td>\n      <td>0</td>\n      <td>0</td>\n      <td>0</td>\n      <td>0</td>\n      <td>0</td>\n      <td>0</td>\n      <td>0</td>\n      <td>0</td>\n      <td>0</td>\n      <td>0</td>\n      <td>0</td>\n    </tr>\n    <tr>\n      <th>1296671</th>\n      <td>51.70</td>\n      <td>39.2667</td>\n      <td>-77.5101</td>\n      <td>38.906881</td>\n      <td>-78.246528</td>\n      <td>0</td>\n      <td>41</td>\n      <td>0</td>\n      <td>1</td>\n      <td>0</td>\n      <td>0</td>\n      <td>0</td>\n      <td>0</td>\n      <td>0</td>\n      <td>0</td>\n      <td>0</td>\n      <td>0</td>\n      <td>0</td>\n      <td>0</td>\n      <td>0</td>\n      <td>0</td>\n    </tr>\n    <tr>\n      <th>1296672</th>\n      <td>105.93</td>\n      <td>32.9396</td>\n      <td>-105.8189</td>\n      <td>33.619513</td>\n      <td>-105.130529</td>\n      <td>0</td>\n      <td>53</td>\n      <td>0</td>\n      <td>1</td>\n      <td>0</td>\n      <td>0</td>\n      <td>0</td>\n      <td>0</td>\n      <td>0</td>\n      <td>0</td>\n      <td>0</td>\n      <td>0</td>\n      <td>0</td>\n      <td>0</td>\n      <td>0</td>\n      <td>0</td>\n    </tr>\n    <tr>\n      <th>1296673</th>\n      <td>74.90</td>\n      <td>43.3526</td>\n      <td>-102.5411</td>\n      <td>42.788940</td>\n      <td>-103.241160</td>\n      <td>0</td>\n      <td>40</td>\n      <td>0</td>\n      <td>1</td>\n      <td>0</td>\n      <td>0</td>\n      <td>0</td>\n      <td>0</td>\n      <td>0</td>\n      <td>0</td>\n      <td>0</td>\n      <td>0</td>\n      <td>0</td>\n      <td>0</td>\n      <td>0</td>\n      <td>0</td>\n    </tr>\n    <tr>\n      <th>1296674</th>\n      <td>4.30</td>\n      <td>45.8433</td>\n      <td>-113.8748</td>\n      <td>46.565983</td>\n      <td>-114.186110</td>\n      <td>0</td>\n      <td>25</td>\n      <td>0</td>\n      <td>1</td>\n      <td>0</td>\n      <td>0</td>\n      <td>0</td>\n      <td>0</td>\n      <td>0</td>\n      <td>0</td>\n      <td>0</td>\n      <td>0</td>\n      <td>0</td>\n      <td>0</td>\n      <td>0</td>\n      <td>0</td>\n    </tr>\n  </tbody>\n</table>\n<p>1296675 rows × 21 columns</p>\n</div>"
     },
     "metadata": {},
     "execution_count": 15
    }
   ],
   "source": [
    "x = pd.get_dummies(dropped_fraud_train.category, prefix='category')\n",
    "dropped_fraud_train_x = dropped_fraud_train\n",
    "dropped_fraud_train_x = dropped_fraud_train_x.join(x)\n",
    "dropped_fraud_train_x = dropped_fraud_train_x.drop(columns=[\"category\"])"
   ]
  },
  {
   "cell_type": "code",
   "execution_count": 16,
   "metadata": {},
   "outputs": [
    {
     "output_type": "execute_result",
     "data": {
      "text/plain": [
       "      amt      lat      long  merch_lat  merch_long  is_fraud  age  \\\n",
       "0    4.97  36.0788  -81.1781  36.011293  -82.048315         0   33   \n",
       "1  107.23  48.8878 -118.2105  49.159047 -118.186462         0   42   \n",
       "2  220.11  42.1808 -112.2620  43.150704 -112.154481         0   59   \n",
       "3   45.00  46.2306 -112.1138  47.034331 -112.561071         0   54   \n",
       "4   41.96  38.4207  -79.4629  38.674999  -78.632459         0   35   \n",
       "\n",
       "   category_entertainment  category_food_dining  category_gas_transport  \\\n",
       "0                       0                     0                       0   \n",
       "1                       0                     0                       0   \n",
       "2                       1                     0                       0   \n",
       "3                       0                     0                       1   \n",
       "4                       0                     0                       0   \n",
       "\n",
       "   category_grocery_net  category_grocery_pos  category_health_fitness  \\\n",
       "0                     0                     0                        0   \n",
       "1                     0                     1                        0   \n",
       "2                     0                     0                        0   \n",
       "3                     0                     0                        0   \n",
       "4                     0                     0                        0   \n",
       "\n",
       "   category_home  category_kids_pets  category_misc_net  category_misc_pos  \\\n",
       "0              0                   0                  1                  0   \n",
       "1              0                   0                  0                  0   \n",
       "2              0                   0                  0                  0   \n",
       "3              0                   0                  0                  0   \n",
       "4              0                   0                  0                  1   \n",
       "\n",
       "   category_personal_care  category_shopping_net  category_shopping_pos  \\\n",
       "0                       0                      0                      0   \n",
       "1                       0                      0                      0   \n",
       "2                       0                      0                      0   \n",
       "3                       0                      0                      0   \n",
       "4                       0                      0                      0   \n",
       "\n",
       "   category_travel  \n",
       "0                0  \n",
       "1                0  \n",
       "2                0  \n",
       "3                0  \n",
       "4                0  "
      ],
      "text/html": "<div>\n<style scoped>\n    .dataframe tbody tr th:only-of-type {\n        vertical-align: middle;\n    }\n\n    .dataframe tbody tr th {\n        vertical-align: top;\n    }\n\n    .dataframe thead th {\n        text-align: right;\n    }\n</style>\n<table border=\"1\" class=\"dataframe\">\n  <thead>\n    <tr style=\"text-align: right;\">\n      <th></th>\n      <th>amt</th>\n      <th>lat</th>\n      <th>long</th>\n      <th>merch_lat</th>\n      <th>merch_long</th>\n      <th>is_fraud</th>\n      <th>age</th>\n      <th>category_entertainment</th>\n      <th>category_food_dining</th>\n      <th>category_gas_transport</th>\n      <th>category_grocery_net</th>\n      <th>category_grocery_pos</th>\n      <th>category_health_fitness</th>\n      <th>category_home</th>\n      <th>category_kids_pets</th>\n      <th>category_misc_net</th>\n      <th>category_misc_pos</th>\n      <th>category_personal_care</th>\n      <th>category_shopping_net</th>\n      <th>category_shopping_pos</th>\n      <th>category_travel</th>\n    </tr>\n  </thead>\n  <tbody>\n    <tr>\n      <th>0</th>\n      <td>4.97</td>\n      <td>36.0788</td>\n      <td>-81.1781</td>\n      <td>36.011293</td>\n      <td>-82.048315</td>\n      <td>0</td>\n      <td>33</td>\n      <td>0</td>\n      <td>0</td>\n      <td>0</td>\n      <td>0</td>\n      <td>0</td>\n      <td>0</td>\n      <td>0</td>\n      <td>0</td>\n      <td>1</td>\n      <td>0</td>\n      <td>0</td>\n      <td>0</td>\n      <td>0</td>\n      <td>0</td>\n    </tr>\n    <tr>\n      <th>1</th>\n      <td>107.23</td>\n      <td>48.8878</td>\n      <td>-118.2105</td>\n      <td>49.159047</td>\n      <td>-118.186462</td>\n      <td>0</td>\n      <td>42</td>\n      <td>0</td>\n      <td>0</td>\n      <td>0</td>\n      <td>0</td>\n      <td>1</td>\n      <td>0</td>\n      <td>0</td>\n      <td>0</td>\n      <td>0</td>\n      <td>0</td>\n      <td>0</td>\n      <td>0</td>\n      <td>0</td>\n      <td>0</td>\n    </tr>\n    <tr>\n      <th>2</th>\n      <td>220.11</td>\n      <td>42.1808</td>\n      <td>-112.2620</td>\n      <td>43.150704</td>\n      <td>-112.154481</td>\n      <td>0</td>\n      <td>59</td>\n      <td>1</td>\n      <td>0</td>\n      <td>0</td>\n      <td>0</td>\n      <td>0</td>\n      <td>0</td>\n      <td>0</td>\n      <td>0</td>\n      <td>0</td>\n      <td>0</td>\n      <td>0</td>\n      <td>0</td>\n      <td>0</td>\n      <td>0</td>\n    </tr>\n    <tr>\n      <th>3</th>\n      <td>45.00</td>\n      <td>46.2306</td>\n      <td>-112.1138</td>\n      <td>47.034331</td>\n      <td>-112.561071</td>\n      <td>0</td>\n      <td>54</td>\n      <td>0</td>\n      <td>0</td>\n      <td>1</td>\n      <td>0</td>\n      <td>0</td>\n      <td>0</td>\n      <td>0</td>\n      <td>0</td>\n      <td>0</td>\n      <td>0</td>\n      <td>0</td>\n      <td>0</td>\n      <td>0</td>\n      <td>0</td>\n    </tr>\n    <tr>\n      <th>4</th>\n      <td>41.96</td>\n      <td>38.4207</td>\n      <td>-79.4629</td>\n      <td>38.674999</td>\n      <td>-78.632459</td>\n      <td>0</td>\n      <td>35</td>\n      <td>0</td>\n      <td>0</td>\n      <td>0</td>\n      <td>0</td>\n      <td>0</td>\n      <td>0</td>\n      <td>0</td>\n      <td>0</td>\n      <td>0</td>\n      <td>1</td>\n      <td>0</td>\n      <td>0</td>\n      <td>0</td>\n      <td>0</td>\n    </tr>\n  </tbody>\n</table>\n</div>"
     },
     "metadata": {},
     "execution_count": 16
    }
   ],
   "source": [
    "dropped_fraud_train_x.head()"
   ]
  },
  {
   "cell_type": "code",
   "execution_count": 18,
   "metadata": {},
   "outputs": [],
   "source": [
    "from sklearn.model_selection import train_test_split\n",
    "X_train, X_test, Y_train, Y_test = train_test_split(dropped_fraud_train_x.drop(['is_fraud'],axis='columns'), dropped_fraud_train_x.is_fraud, test_size=0.2)"
   ]
  },
  {
   "cell_type": "code",
   "execution_count": 20,
   "metadata": {},
   "outputs": [
    {
     "output_type": "execute_result",
     "data": {
      "text/plain": [
       "RandomForestClassifier()"
      ]
     },
     "metadata": {},
     "execution_count": 20
    }
   ],
   "source": [
    "from sklearn.ensemble import RandomForestClassifier\n",
    "model = RandomForestClassifier()\n",
    "model.fit(X_train, Y_train)"
   ]
  },
  {
   "cell_type": "code",
   "execution_count": 21,
   "metadata": {},
   "outputs": [
    {
     "output_type": "execute_result",
     "data": {
      "text/plain": [
       "0.997312356604392"
      ]
     },
     "metadata": {},
     "execution_count": 21
    }
   ],
   "source": [
    "model.score(X_test, Y_test)"
   ]
  },
  {
   "cell_type": "code",
   "execution_count": 22,
   "metadata": {},
   "outputs": [],
   "source": [
    "y_predicted = model.predict(X_test)"
   ]
  },
  {
   "cell_type": "code",
   "execution_count": 30,
   "metadata": {},
   "outputs": [
    {
     "output_type": "stream",
     "name": "stdout",
     "text": [
      "[[257653    195]\n",
      " [   502    985]]\n",
      "              precision    recall  f1-score   support\n",
      "\n",
      "           0       1.00      1.00      1.00    257848\n",
      "           1       0.83      0.66      0.74      1487\n",
      "\n",
      "    accuracy                           1.00    259335\n",
      "   macro avg       0.92      0.83      0.87    259335\n",
      "weighted avg       1.00      1.00      1.00    259335\n",
      "\n",
      "0.997312356604392\n"
     ]
    }
   ],
   "source": [
    "from sklearn.metrics import confusion_matrix, classification_report, accuracy_score\n",
    "print(confusion_matrix(Y_test, y_predicted))\n",
    "print(classification_report(Y_test, y_predicted))\n",
    "print(accuracy_score(Y_test, y_predicted))"
   ]
  },
  {
   "cell_type": "code",
   "execution_count": 31,
   "metadata": {},
   "outputs": [],
   "source": [
    "import joblib"
   ]
  },
  {
   "cell_type": "code",
   "execution_count": 32,
   "metadata": {},
   "outputs": [
    {
     "output_type": "execute_result",
     "data": {
      "text/plain": [
       "['model.joblib']"
      ]
     },
     "metadata": {},
     "execution_count": 32
    }
   ],
   "source": [
    "joblib.dump(model, 'model.joblib')"
   ]
  },
  {
   "cell_type": "code",
   "execution_count": null,
   "metadata": {},
   "outputs": [],
   "source": []
  }
 ]
}